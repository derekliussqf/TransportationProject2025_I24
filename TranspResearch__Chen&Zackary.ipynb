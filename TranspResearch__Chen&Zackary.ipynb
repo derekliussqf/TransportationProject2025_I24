{
  "nbformat": 4,
  "nbformat_minor": 0,
  "metadata": {
    "colab": {
      "provenance": []
    },
    "kernelspec": {
      "name": "python3",
      "display_name": "Python 3"
    },
    "language_info": {
      "name": "python"
    }
  },
  "cells": [
    {
      "cell_type": "code",
      "execution_count": null,
      "metadata": {
        "id": "XkywHjqokr17"
      },
      "outputs": [],
      "source": [
        "import pandas as pd\n",
        "import matplotlib.pyplot as plt\n",
        "import seaborn as sns\n",
        "import folium\n",
        "import json\n",
        "import pickle\n",
        "import math\n",
        "from collections import defaultdict\n",
        "import numpy as np\n",
        "import time\n",
        "import bisect\n",
        "import datetime\n",
        "from pandas import read_csv"
      ]
    },
    {
      "cell_type": "code",
      "source": [
        "from google.colab import drive\n",
        "drive.mount('/content/drive')\n",
        "\n",
        "data = pd.read_json(\"/content/drive/MyDrive/Nov22small.json\")"
      ],
      "metadata": {
        "id": "DXCSVsTVkxva",
        "colab": {
          "base_uri": "https://localhost:8080/"
        },
        "outputId": "83c30b99-03a6-46bd-cb8e-fa7e4af88e0a"
      },
      "execution_count": null,
      "outputs": [
        {
          "output_type": "stream",
          "name": "stdout",
          "text": [
            "Mounted at /content/drive\n"
          ]
        }
      ]
    },
    {
      "cell_type": "code",
      "source": [
        "###2025.2.28\n",
        "\n",
        "#data = pd.read_json('Nov22small.json')\n",
        "#test_data = data.head(10)\n",
        "#test_data = data[data['direction'] == -1].head(10)\n",
        "\n",
        "def avgspeed(car_info):\n",
        "    distance = math.sqrt(pow(car_info.y_position[-1] - car_info.y_position[0], 2) +\n",
        "                         pow(car_info.x_position[-1] - car_info.x_position[0], 2))\n",
        "    time = car_info.last_timestamp - car_info.first_timestamp\n",
        "    return distance / time * 135 / 198  #  miles/h\n",
        "\n",
        "def v_per_section(car_info):\n",
        "    sections = len(car_info.y_position)\n",
        "    sec_num = sections - 1\n",
        "    velocity = []\n",
        "    while sec_num > 0:\n",
        "        distance = math.sqrt(pow(car_info.y_position[sec_num] - car_info.y_position[sec_num - 1], 2) +\n",
        "                             pow(car_info.x_position[sec_num] - car_info.x_position[sec_num - 1], 2))\n",
        "        time = car_info.timestamp[sec_num] - car_info.timestamp[sec_num - 1]\n",
        "        velo = distance / time * 135 / 198  #  miles/h\n",
        "        velocity.append(velo)\n",
        "        sec_num -= 1\n",
        "    return velocity\n",
        "\n",
        "\n",
        "def calculate_flow(data, target_x, start_time, end_time):\n",
        "    flow_count = 0\n",
        "\n",
        "    for i in range(len(data)):\n",
        "        x_positions = data.iloc[i].x_position\n",
        "        timestamps = data.iloc[i].timestamp\n",
        "        j = 1\n",
        "        start_index = -1\n",
        "        end_index = -1\n",
        "\n",
        "        while j < len(timestamps) - 1:\n",
        "            if (start_index == -1) and timestamps[j] >= start_time:\n",
        "              start_index = j-1\n",
        "            if timestamps[j] >= end_time:\n",
        "              end_index = j\n",
        "            if start_index != -1 and end_index != -1:\n",
        "              break\n",
        "            j = j+1\n",
        "\n",
        "        if start_index == -1:\n",
        "              continue\n",
        "        if end_index == -1:\n",
        "              end_index = len(timestamps)-1\n",
        "        # have both start & end\n",
        "        # print('start', start_index)\n",
        "        # print('end', end_index)\n",
        "        # print('len x_pos', len(x_positions))\n",
        "\n",
        "        if x_positions[start_index] <= target_x <= x_positions[end_index] or \\\n",
        "           x_positions[start_index] >= target_x >= x_positions[end_index]:\n",
        "\n",
        "            flow_count += 1\n",
        "\n",
        "\n",
        "    # calc flow :veh/h\n",
        "    time_window = end_time - start_time\n",
        "    flow = flow_count / (time_window / 3600)\n",
        "\n",
        "    return flow\n",
        "\n",
        "\n",
        "\n",
        "# density\n",
        "def interpolate_position(x1, x2, t1, t2, target_time):\n",
        "    if t1 == t2:\n",
        "        return x1\n",
        "    return x1 + (x2 - x1) * (target_time - t1) / (t2 - t1)\n",
        "def calculate_density(data, x_start, x_end, target_time):\n",
        "    density_count = 0\n",
        "    for i in range(len(data)):\n",
        "\n",
        "        x_positions = data.iloc[i].x_position\n",
        "        timestamps = data.iloc[i].timestamp\n",
        "\n",
        "        for j in range(len(timestamps) - 1):\n",
        "            if timestamps[j] <= target_time <= timestamps[j + 1]:\n",
        "                x_interpolated = interpolate_position(\n",
        "                    x_positions[j], x_positions[j + 1],\n",
        "                    timestamps[j], timestamps[j + 1],\n",
        "                    target_time\n",
        "                )\n",
        "                if x_start <= x_interpolated <= x_end:\n",
        "                    density_count += 1\n",
        "                break\n",
        "    # density calc\n",
        "    road_length = (x_end - x_start) / 63360  # in mile\n",
        "    density = density_count / road_length  #  veh/mile\n",
        "\n",
        "    return density\n",
        "\n",
        "###average vehicles across time t - t+dt\n",
        "def average_vehicles(data, t, dt):\n",
        "    vehicle_count = 0\n",
        "    for i in range(dt):\n",
        "        current_time = t + i\n",
        "        for j in range(len(data)):\n",
        "            for k in data.iloc[j].timestamp:\n",
        "              if 1> k - current_time > 0:\n",
        "                vehicle_count += 1\n",
        "                #print(\"j,i:\",j,i)\n",
        "                break\n",
        "\n",
        "    return [vehicle_count, vehicle_count / dt]\n",
        "\n",
        "\n",
        "#test\n",
        "# a,b = average_vehicles(data.head(10), 1669118399,5)\n",
        "# print(a,b)\n",
        "\n",
        "\n",
        "#test\n",
        "\n",
        "\n",
        "\n",
        "#test flow calc\n",
        "\n",
        "# target_x = 321525\n",
        "# start_time = float(1669110000)\n",
        "# end_time =   float(1669130000)\n",
        "\n",
        "\n",
        "#flow = calculate_flow(test_data, target_x, start_time, end_time)\n",
        "#flow = calculate_flow(data, target_x, start_time, end_time)\n",
        "\n",
        "#print(f\"The flow in time frame [{start_time}, {end_time}] passing x = {target_x} is: {flow} veh/h\")\n",
        "\n",
        "# test density\n",
        "\n",
        "\n",
        "# x_start = 321000\n",
        "# x_end = 321530\n",
        "# target_time = 1669120000\n",
        "\n",
        "#density = calculate_density(test_data, x_start, x_end, target_time)\n",
        "#density = calculate_density(data, x_start, x_end, target_time)\n",
        "#print(f\"Density at [{target_time}] seconds and within x-coord [{x_start}, {x_end}] is: {density} veh/mile\")\n",
        "\n",
        "\n",
        "## avg speed\n",
        "\n",
        "vehicle_avg_dict = {f\"{data.iloc[i]._id} mean_velocity\": avgspeed(data.iloc[i]) for i in range(len(data))}\n",
        "#vehicle_seg_dict = {f\"{data.iloc[i]._id} segment_velocity\": v_per_section(data.iloc[i]) for i in range(len(data))}\n",
        "avg_speed = sum(vehicle_avg_dict.values()) / len(vehicle_avg_dict)\n",
        "\n",
        "#print(f\"Average Speed: {avg_speed} miles/h\")\n",
        "\n",
        "\n",
        "\n"
      ],
      "metadata": {
        "id": "eoWXaWb-kyag"
      },
      "execution_count": null,
      "outputs": []
    },
    {
      "cell_type": "code",
      "source": [
        "## data cleaning\n",
        "\n",
        "### clean short line\n",
        "data = data[data['timestamp'].apply(len) > 30]  ###time too short ( < 30 entries)\n",
        "\n",
        "def at_least_one_min(timestamp):\n",
        "    if abs(timestamp[0] - timestamp[-1]) < 5:   #### time too short , < 5 seconds\n",
        "        return True\n",
        "    return False\n",
        "data = data[~data['timestamp'].apply(at_least_one_min)]\n",
        "\n",
        "#rint(len(data))\n",
        "\n",
        "\n",
        "### clean long horizontal line\n",
        "def has_constant_x_position(x_pos):\n",
        "    if len(x_pos) < 30:\n",
        "        return False\n",
        "    for i in range(len(x_pos) - 29):    ###### delete vehicle 30 seconds without moving\n",
        "        if abs(x_pos[i] - x_pos[i+29]) <= 1:\n",
        "            return True\n",
        "    return False\n",
        "\n",
        "\n",
        "data = data[~data['x_position'].apply(has_constant_x_position)]\n",
        "\n",
        "#print(len(data))\n",
        "\n",
        "\n",
        "data1 = data[data.direction == 1]\n",
        "data2 = data[data.direction == -1]\n",
        "print(len(data1))\n",
        "print(len(data))\n",
        "print(len(data2))\n",
        "\n",
        "#data = data1\n",
        "#data = data2"
      ],
      "metadata": {
        "id": "Uy9cMvCntONb"
      },
      "execution_count": null,
      "outputs": []
    },
    {
      "cell_type": "code",
      "source": [
        "########################### data cleaning\n",
        "data = data[data['timestamp'].apply(len) > 30]\n",
        "\n",
        "def at_least_one_min(timestamp):\n",
        "    #print(timestamp)\n",
        "    if abs(timestamp[0] - timestamp[-1]) < 5:\n",
        "        return True\n",
        "    return False\n",
        "data = data[~data['timestamp'].apply(at_least_one_min)]\n",
        "\n",
        "print(len(data))\n"
      ],
      "metadata": {
        "id": "oI-eV71zKeS0"
      },
      "execution_count": null,
      "outputs": []
    },
    {
      "cell_type": "code",
      "source": [
        "def has_constant_x_position(x_pos):\n",
        "    if len(x_pos) < 30:\n",
        "        return False\n",
        "    for i in range(len(x_pos) - 29):\n",
        "        if abs(x_pos[i] - x_pos[i+29]) <= 1:\n",
        "            return True\n",
        "    return False\n",
        "\n",
        "\n",
        "data = data[~data['x_position'].apply(has_constant_x_position)]\n",
        "\n",
        "print(len(data))"
      ],
      "metadata": {
        "id": "ymlMvaZ1KgzB"
      },
      "execution_count": null,
      "outputs": []
    },
    {
      "cell_type": "code",
      "source": [
        "data1 = data[data.direction == 1]\n",
        "data2 = data[data.direction == -1]\n",
        "print(len(data1))\n",
        "print(len(data))\n",
        "print(len(data2))"
      ],
      "metadata": {
        "id": "Eu10DNcEKqQQ"
      },
      "execution_count": null,
      "outputs": []
    },
    {
      "cell_type": "code",
      "source": [
        "\n",
        "def exit_at_62_3(x_pos):\n",
        "  tar = 62.3\n",
        "  ctr = 0\n",
        "  if abs(x_pos[-1] / 5280 - tar) < 0.1:\n",
        "      return True\n",
        "  return False\n",
        "\n",
        "data11 = data1[data1.x_position.apply(exit_at_62_3)]\n",
        "print(len(data11))"
      ],
      "metadata": {
        "id": "257cVB8NKrbt"
      },
      "execution_count": null,
      "outputs": []
    },
    {
      "cell_type": "code",
      "source": [
        "########### plot x vs. y\n",
        "start_time = datetime.datetime(2022, 11, 22, 7, 0)\n",
        "start_time = start_time.timestamp()\n",
        "\n",
        "fig = plt.figure(figsize=(24, 12))\n",
        "ax = fig.add_subplot(111)\n",
        "\n",
        "for i in range(len(data11)):\n",
        "\n",
        "    pos = np.array(data11.iloc[i].x_position)/5280\n",
        "    y = np.array(data11.iloc[i].y_position)/5280\n",
        "\n",
        "    ax.plot(pos, y)\n",
        "ax.set_xlim(62.1, 62.4)\n",
        "ax.set_ylim(-0.02, 0.005)\n",
        "plt.savefig('exit62.3.png')\n",
        "fig.show()"
      ],
      "metadata": {
        "id": "pM0bJ_l_Ksy0"
      },
      "execution_count": null,
      "outputs": []
    },
    {
      "cell_type": "code",
      "source": [
        "########################segment\n",
        "def segment_list(lst, segment_size):\n",
        "    res = []\n",
        "    for i in range(0, len(lst)+1, segment_size):\n",
        "      if i+segment_size <= len(lst):\n",
        "        res.append([lst[i],lst[i + segment_size]])\n",
        "      else: break\n",
        "    return res\n",
        "\n",
        "time_list = np.arange(data.timestamp.explode().min(), data.timestamp.explode().max() + 1, step=1).tolist()\n",
        "time_targets = np.arange(data.timestamp.explode().min(), data.timestamp.explode().max() + 1, step=100).tolist()\n",
        "### density cal per 100 seconds\n",
        "print(len(time_list))\n",
        "\n",
        "segmented_time_list = segment_list(time_list, 100)\n",
        "#flow cal each for 200s interval\n",
        "\n",
        "#print(segmented_time_list[0])\n",
        "space_list = np.arange(data[\"x_position\"].explode().min(), data[\"x_position\"].explode().max() + 1, step=1).tolist()\n",
        "space_targets = np.arange(data[\"x_position\"].explode().min(), data[\"x_position\"].explode().max() + 1, step=500).tolist()\n",
        "# flow cal per 1000 inches\n",
        "\n",
        "segmented_space_list = segment_list(space_list, 1000)\n",
        "# density cal each for 2000 inches interval"
      ],
      "metadata": {
        "id": "XNF2cDZlk8Ql",
        "colab": {
          "base_uri": "https://localhost:8080/"
        },
        "outputId": "010d1daf-57fb-433f-98a4-f21bc193bf06"
      },
      "execution_count": null,
      "outputs": [
        {
          "output_type": "stream",
          "name": "stdout",
          "text": [
            "2353\n"
          ]
        }
      ]
    },
    {
      "cell_type": "code",
      "source": [
        "density_list = []\n",
        "flow_list = []\n",
        "print(len(time_targets),len(space_targets),len(segmented_time_list),len(segmented_space_list))\n",
        "for i in range(len(time_targets)):\n",
        "   for item in segmented_space_list:\n",
        "    density_list.append(calculate_density(data[data.direction == 1], item[0], item[1], time_targets[i]))\n",
        "\n",
        "# start_time = time.time()\n",
        "#\n",
        "# #density_list.append(calculate_density(data, segmented_space_list[0][0], segmented_space_list[0][1], time_targets[0]))\n",
        "\n",
        "with open(\"density_3.13_d=1.json\", \"w\") as file:\n",
        "    json.dump(density_list, file)\n",
        "\n",
        "# end_time = time.time()\n",
        "\n",
        "# elapsed_time = end_time - start_time\n",
        "\n"
      ],
      "metadata": {
        "id": "Yc7bY2Gnk_Ub"
      },
      "execution_count": null,
      "outputs": []
    },
    {
      "cell_type": "code",
      "source": [
        "for i in range(len(space_targets)):\n",
        "  for item in segmented_time_list:\n",
        "    flow_list.append( calculate_flow(data, space_targets[i], item[0], item[1]))\n",
        "\n",
        "\n",
        "with open(\"flow_3.2.json\", \"w\") as file:\n",
        "    json.dump(flow_list, file)"
      ],
      "metadata": {
        "id": "R7K0dxQulCSC",
        "colab": {
          "base_uri": "https://localhost:8080/",
          "height": 216
        },
        "outputId": "996db5a3-8367-41a7-a241-782baa787df5"
      },
      "execution_count": null,
      "outputs": [
        {
          "output_type": "error",
          "ename": "NameError",
          "evalue": "name 'flow_list' is not defined",
          "traceback": [
            "\u001b[0;31m---------------------------------------------------------------------------\u001b[0m",
            "\u001b[0;31mNameError\u001b[0m                                 Traceback (most recent call last)",
            "\u001b[0;32m<ipython-input-9-e4ece1d1142c>\u001b[0m in \u001b[0;36m<cell line: 0>\u001b[0;34m()\u001b[0m\n\u001b[1;32m      1\u001b[0m \u001b[0;32mfor\u001b[0m \u001b[0mi\u001b[0m \u001b[0;32min\u001b[0m \u001b[0mrange\u001b[0m\u001b[0;34m(\u001b[0m\u001b[0mlen\u001b[0m\u001b[0;34m(\u001b[0m\u001b[0mspace_targets\u001b[0m\u001b[0;34m)\u001b[0m\u001b[0;34m)\u001b[0m\u001b[0;34m:\u001b[0m\u001b[0;34m\u001b[0m\u001b[0;34m\u001b[0m\u001b[0m\n\u001b[1;32m      2\u001b[0m   \u001b[0;32mfor\u001b[0m \u001b[0mitem\u001b[0m \u001b[0;32min\u001b[0m \u001b[0msegmented_time_list\u001b[0m\u001b[0;34m:\u001b[0m\u001b[0;34m\u001b[0m\u001b[0;34m\u001b[0m\u001b[0m\n\u001b[0;32m----> 3\u001b[0;31m     \u001b[0mflow_list\u001b[0m\u001b[0;34m.\u001b[0m\u001b[0mappend\u001b[0m\u001b[0;34m(\u001b[0m \u001b[0mcalculate_flow\u001b[0m\u001b[0;34m(\u001b[0m\u001b[0mdata\u001b[0m\u001b[0;34m,\u001b[0m \u001b[0mspace_targets\u001b[0m\u001b[0;34m[\u001b[0m\u001b[0mi\u001b[0m\u001b[0;34m]\u001b[0m\u001b[0;34m,\u001b[0m \u001b[0mitem\u001b[0m\u001b[0;34m[\u001b[0m\u001b[0;36m0\u001b[0m\u001b[0;34m]\u001b[0m\u001b[0;34m,\u001b[0m \u001b[0mitem\u001b[0m\u001b[0;34m[\u001b[0m\u001b[0;36m1\u001b[0m\u001b[0;34m]\u001b[0m\u001b[0;34m)\u001b[0m\u001b[0;34m)\u001b[0m\u001b[0;34m\u001b[0m\u001b[0;34m\u001b[0m\u001b[0m\n\u001b[0m\u001b[1;32m      4\u001b[0m \u001b[0;34m\u001b[0m\u001b[0m\n\u001b[1;32m      5\u001b[0m \u001b[0;34m\u001b[0m\u001b[0m\n",
            "\u001b[0;31mNameError\u001b[0m: name 'flow_list' is not defined"
          ]
        }
      ]
    },
    {
      "cell_type": "code",
      "source": [
        "###reload data\n",
        "with open('density_3.13_d=1.json', 'r', encoding='utf-8') as file:\n",
        "\n",
        "    density_list =  json.load(file)\n",
        "with open('flow_3.2.json', 'r', encoding='utf-8') as file:\n",
        "\n",
        "    flow_list =  json.load(file)\n",
        "###"
      ],
      "metadata": {
        "id": "vJ5vXptnlDle"
      },
      "execution_count": null,
      "outputs": []
    },
    {
      "cell_type": "code",
      "source": [
        "## data process\n",
        "\n",
        "#print(len(density_list))#,len(flow_list))\n",
        "#print(len(time_targets),len(space_targets))\n",
        "\n",
        "d_l = list([] for i in range(int(len(density_list)/len(time_targets))))\n",
        "\n",
        "f_l = list([] for i in range(int(len(flow_list)/len(space_targets))))\n",
        "\n",
        "for i in range(len(density_list)):\n",
        "  d_l[math.floor(i/(len(time_targets)))].append(density_list[i])\n",
        "\n",
        "for i in range(len(flow_list)):\n",
        "  f_l[math.floor(i/len(space_targets))].append(flow_list[i])\n"
      ],
      "metadata": {
        "id": "EfdW8ooalEmS"
      },
      "execution_count": null,
      "outputs": []
    },
    {
      "cell_type": "code",
      "source": [
        "###############  x pos vs time\n",
        "# with open('Nov22small.json', 'r') as file:\n",
        "#     data = json.load(file)\n",
        "\n",
        "timestamps = [datetime.datetime.fromtimestamp(t).time().strftime(\"%H:%M:%S.%f\")[:-3] for t in data.timestamp[0]]\n",
        "start_time = datetime.datetime(2022, 11, 22, 7, 0)\n",
        "start_time = start_time.timestamp()\n",
        "\n",
        "fig = plt.figure(figsize=(24, 12))\n",
        "ax = fig.add_subplot(111)\n",
        "\n",
        "for i in range(0, 70000):\n",
        "    #i = j * 10+3\n",
        "    if data.iloc[i].direction == 1:\n",
        "        continue\n",
        "    pos = np.array(data.iloc[i].x_position)/5280\n",
        "    timestamps = np.array(data.iloc[i].timestamp) - start_time\n",
        "    ax.plot(timestamps, pos)\n",
        "plt.savefig('x_pos vs time.png')\n",
        "fig.show()"
      ],
      "metadata": {
        "id": "RuiDY5bW-5Bl",
        "colab": {
          "base_uri": "https://localhost:8080/",
          "height": 877
        },
        "outputId": "59de9ce5-42f0-4a61-ce4c-efa7bd950299"
      },
      "execution_count": null,
      "outputs": [
        {
          "output_type": "error",
          "ename": "TypeError",
          "evalue": "unsupported operand type(s) for -: 'float' and 'datetime.datetime'",
          "traceback": [
            "\u001b[0;31m---------------------------------------------------------------------------\u001b[0m",
            "\u001b[0;31mTypeError\u001b[0m                                 Traceback (most recent call last)",
            "\u001b[0;32m<ipython-input-6-33487a5c40a4>\u001b[0m in \u001b[0;36m<cell line: 0>\u001b[0;34m()\u001b[0m\n\u001b[1;32m     15\u001b[0m         \u001b[0;32mcontinue\u001b[0m\u001b[0;34m\u001b[0m\u001b[0;34m\u001b[0m\u001b[0m\n\u001b[1;32m     16\u001b[0m     \u001b[0mpos\u001b[0m \u001b[0;34m=\u001b[0m \u001b[0mnp\u001b[0m\u001b[0;34m.\u001b[0m\u001b[0marray\u001b[0m\u001b[0;34m(\u001b[0m\u001b[0mdata\u001b[0m\u001b[0;34m.\u001b[0m\u001b[0miloc\u001b[0m\u001b[0;34m[\u001b[0m\u001b[0mi\u001b[0m\u001b[0;34m]\u001b[0m\u001b[0;34m.\u001b[0m\u001b[0mx_position\u001b[0m\u001b[0;34m)\u001b[0m\u001b[0;34m/\u001b[0m\u001b[0;36m5280\u001b[0m\u001b[0;34m\u001b[0m\u001b[0;34m\u001b[0m\u001b[0m\n\u001b[0;32m---> 17\u001b[0;31m     \u001b[0mtimestamps\u001b[0m \u001b[0;34m=\u001b[0m \u001b[0mnp\u001b[0m\u001b[0;34m.\u001b[0m\u001b[0marray\u001b[0m\u001b[0;34m(\u001b[0m\u001b[0mdata\u001b[0m\u001b[0;34m.\u001b[0m\u001b[0miloc\u001b[0m\u001b[0;34m[\u001b[0m\u001b[0mi\u001b[0m\u001b[0;34m]\u001b[0m\u001b[0;34m.\u001b[0m\u001b[0mtimestamp\u001b[0m\u001b[0;34m)\u001b[0m \u001b[0;34m-\u001b[0m \u001b[0mstart_time\u001b[0m\u001b[0;34m\u001b[0m\u001b[0;34m\u001b[0m\u001b[0m\n\u001b[0m\u001b[1;32m     18\u001b[0m     \u001b[0max\u001b[0m\u001b[0;34m.\u001b[0m\u001b[0mplot\u001b[0m\u001b[0;34m(\u001b[0m\u001b[0mtimestamps\u001b[0m\u001b[0;34m,\u001b[0m \u001b[0mpos\u001b[0m\u001b[0;34m)\u001b[0m\u001b[0;34m\u001b[0m\u001b[0;34m\u001b[0m\u001b[0m\n\u001b[1;32m     19\u001b[0m \u001b[0mplt\u001b[0m\u001b[0;34m.\u001b[0m\u001b[0msavefig\u001b[0m\u001b[0;34m(\u001b[0m\u001b[0;34m'x_pos vs time.png'\u001b[0m\u001b[0;34m)\u001b[0m\u001b[0;34m\u001b[0m\u001b[0;34m\u001b[0m\u001b[0m\n",
            "\u001b[0;31mTypeError\u001b[0m: unsupported operand type(s) for -: 'float' and 'datetime.datetime'"
          ]
        },
        {
          "output_type": "display_data",
          "data": {
            "text/plain": [
              "<Figure size 2400x1200 with 1 Axes>"
            ],
            "image/png": "[encoded data removed]"
          },
          "metadata": {}
        }
      ]
    },
    {
      "cell_type": "code",
      "source": [
        "## graphing\n",
        "#print(segmented_time_list )\n",
        "start_time = datetime.datetime(2022, 11, 22, 7, 0)\n",
        "\n",
        "tstamps = [datetime.datetime.fromtimestamp(t[0]).time().strftime(\"%H:%M:%S.%f\")[:-3] for t in segmented_time_list ]\n",
        "\n",
        "x = range(len(d_l))\n",
        "t = time_targets\n",
        "T,X = np.meshgrid(t,x)\n",
        "\n",
        "space = space_targets\n",
        "print(space)\n",
        "time = range(len(f_l))\n",
        "sp,ti = np.meshgrid(space, time)\n",
        "#print(time)\n",
        "\n",
        "\n",
        "##draw\n",
        "\n",
        "fig, (ax1, ax2) = plt.subplots(2, 1, figsize=(20, 10))\n",
        "\n",
        "#：rho(x, t) density\n",
        "c = ax1.contourf( T,X, d_l, levels=50, cmap='viridis')\n",
        "ax1.set_ylabel('x / miles')\n",
        "ax1.set_xlabel('t / seconds')\n",
        "ax1.set_title(r'$\\hat{\\rho}(x,t)$')\n",
        "\n",
        "yticks = x\n",
        "yticklabels =  [np.around(i / 5280,2) for i,y in segmented_space_list ]\n",
        "\n",
        "ax1.set_yticks(yticks)\n",
        "ax1.set_yticklabels(yticklabels)\n",
        "fig.colorbar(c, ax=ax1,label='Intensity')\n",
        "\n",
        "\n",
        "\n",
        "# ：u(x, t) : flow\n",
        "c = ax2.contourf(ti, sp, f_l, levels=50, cmap='plasma')\n",
        "ax2.set_ylabel('x / miles')\n",
        "ax2.set_xlabel('t ')\n",
        "ax2.set_title(r'$\\hat{u}(x,t)$')\n",
        "\n",
        "xticks = time\n",
        "xticklabels = tstamps\n",
        "\n",
        "\n",
        "ax2.set_xticks(xticks)\n",
        "ax2.set_xticklabels(xticklabels)\n",
        "ax2.set_yticks(space)\n",
        "yticklabels2 = [np.around(i / 5280,2) for i in space_targets ]\n",
        "ax2.set_yticklabels(yticklabels2)\n",
        "fig.colorbar(c, ax=ax2,label='Intensity')\n",
        "\n",
        "\n",
        "plt.tight_layout()\n",
        "\n",
        "plt.savefig('3.13_d_100s_1000in_f_100s_500in.png')\n",
        "plt.show()"
      ],
      "metadata": {
        "id": "KXom1RnPlGkC"
      },
      "execution_count": null,
      "outputs": []
    },
    {
      "cell_type": "code",
      "source": [
        "def load_ramp_data():\n",
        "  ramp_data = read_csv(ramp_and_landmark_layer.csv)\n",
        "def create_ramp_list(ramp_data):\n",
        "  x_pos_eb_ramps = []\n",
        "\n",
        "#Direction \"EB\"=east bound, \"WB\"= west boud\n",
        "#Boarding \"on\" = \"off\"\n",
        "def ramp_loaded_vehicles(data, ramp_loc, start_time, end_time, direction = \"EB\", boarding = \"on\", buffer = 50):\n",
        "  change_count = 0\n",
        "  for i in range(len(data)):\n",
        "    x_positions = data.iloc[i].x_position\n",
        "    timestamps = data.iloc[i].timestamp\n",
        "    y_positions = data.iloc[i].x_position\n",
        "    j = 0\n",
        "    start_index = -1\n",
        "    end_index = -1\n",
        "    while j < len(timestamps) - 1:\n",
        "      if (start_index == -1) and timestamps[j] >= start_time:\n",
        "        start_index = j-1\n",
        "      if timestamps[j] >= end_time:\n",
        "        end_index = j\n",
        "      if start_index != -1 and end_index != -1:\n",
        "        break\n",
        "      if start_index == -1:\n",
        "        continue\n",
        "      if end_index == -1:\n",
        "        end_index = len(timestamps) - 1\n",
        "\n",
        "\n",
        "    match direction:\n",
        "      case \"EB\":\n",
        "        match boarding:\n",
        "          case \"on\":\n",
        "            if x_positions[start_index] <= ramp_loc + buffer <= x_positions[end_index]:\n",
        "              if x_positions[end_index] <= ramp_loc + buffer:\n",
        "                ramp_buffer_index = bisect.bisect_left(x_positions, ramp_loc - buffer, lo=start_index, hi=end_index)\n",
        "                if(-36<=y_positions[ramp_buffer_index] <= -24):\n",
        "                  change_count+=1\n",
        "           # in correct lane\n",
        "          case \"off\":\n",
        "            if x_positions[start_index] <= ramp_loc - buffer <= x_positions[end_index]:\n",
        "              if x_positions[end_index] <= ramp_loc + buffer:\n",
        "                ramp_buffer_index = bisect.bisect_left(x_positions, ramp_loc - buffer, lo=start_index, hi=end_index)\n",
        "                if(-36<=y_positions[ramp_buffer_index] <= -24):\n",
        "                  change_count+=1\n",
        "           # in correct lane\n",
        "      case \"WB\":\n",
        "        match boarding:\n",
        "          case \"on\":\n",
        "            print(\"OK\")\n",
        "          case \"off\":\n",
        "            print(\"OK\")\n",
        "\n",
        "    #EB AND OFF CASE\n",
        "    #First we check the x location is good for preramp\n",
        "    if x_positions[start_index] <= ramp_loc - buffer <= x_positions[end_index]:\n",
        "      if x_positions[end_index] <= ramp_loc + buffer:\n",
        "        ramp_buffer_index = bisect.bisect_left(x_positions, ramp_loc - buffer, lo=start_index, hi=end_index)\n",
        "        if(-36<y_positions[ramp_buffer_index] < -24):\n",
        "          change_count+=1\n",
        "           # in correct lane\n",
        "  return change_count"
      ],
      "metadata": {
        "id": "AN1WerLjQjc6"
      },
      "execution_count": null,
      "outputs": []
    },
    {
      "cell_type": "code",
      "source": [
        "print(segmented_time_list)\n",
        "ramp_loaded_vehicles(data, 60*5280, segmented_time_list[0][0], segmented_time_list[0][1])"
      ],
      "metadata": {
        "colab": {
          "base_uri": "https://localhost:8080/"
        },
        "id": "nsVyOVSCRpyL",
        "outputId": "d9727787-29ac-4dc3-c1d6-429b96844801"
      },
      "execution_count": null,
      "outputs": [
        {
          "output_type": "stream",
          "name": "stdout",
          "text": [
            "[[1669118399.9, 1669118499.9], [1669118499.9, 1669118599.9], [1669118599.9, 1669118699.9], [1669118699.9, 1669118799.9], [1669118799.9, 1669118899.9], [1669118899.9, 1669118999.9], [1669118999.9, 1669119099.9], [1669119099.9, 1669119199.9], [1669119199.9, 1669119299.9], [1669119299.9, 1669119399.9], [1669119399.9, 1669119499.9], [1669119499.9, 1669119599.9], [1669119599.9, 1669119699.9], [1669119699.9, 1669119799.9], [1669119799.9, 1669119899.9], [1669119899.9, 1669119999.9], [1669119999.9, 1669120099.9], [1669120099.9, 1669120199.9], [1669120199.9, 1669120299.9], [1669120299.9, 1669120399.9], [1669120399.9, 1669120499.9], [1669120499.9, 1669120599.9], [1669120599.9, 1669120699.9]]\n"
          ]
        }
      ]
    },
    {
      "cell_type": "code",
      "source": [],
      "metadata": {
        "id": "-gc5hJZtRrfA"
      },
      "execution_count": null,
      "outputs": []
    }
  ]
}